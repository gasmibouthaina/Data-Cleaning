{
  "nbformat": 4,
  "nbformat_minor": 0,
  "metadata": {
    "colab": {
      "name": "CCData_Cleaning_Lab.ipynb",
      "private_outputs": true,
      "provenance": [],
      "authorship_tag": "ABX9TyM4zx4eWKx/bl1RmE6bkWJ3",
      "include_colab_link": true
    },
    "kernelspec": {
      "name": "python3",
      "display_name": "Python 3"
    },
    "language_info": {
      "name": "python"
    }
  },
  "cells": [
    {
      "cell_type": "markdown",
      "metadata": {
        "id": "view-in-github",
        "colab_type": "text"
      },
      "source": [
        "<a href=\"https://colab.research.google.com/github/gasmibouthaina/Data-Cleaning/blob/main/CCData_Cleaning_Lab.ipynb\" target=\"_parent\"><img src=\"https://colab.research.google.com/assets/colab-badge.svg\" alt=\"Open In Colab\"/></a>"
      ]
    },
    {
      "cell_type": "code",
      "execution_count": null,
      "metadata": {
        "id": "-Sd-ei8IxivZ"
      },
      "outputs": [],
      "source": [
        "import warnings \n",
        "warnings.filterwarnings('ignore')"
      ]
    },
    {
      "cell_type": "code",
      "source": [
        "import pandas as pd\n",
        "import numpy as np \n",
        "\n",
        "import seaborn as sns \n",
        "import matplotlib.pylab as plt\n",
        "%matplotlib inline\n",
        "\n",
        "from sklearn.preprocessing import StandardScaler\n",
        "from sklearn.preprocessing import MinMaxScaler\n",
        "\n",
        "from scipy.stats import norm\n",
        "from scipy import stats"
      ],
      "metadata": {
        "id": "3-TMO7_TxsKB"
      },
      "execution_count": null,
      "outputs": []
    },
    {
      "cell_type": "code",
      "source": [
        "housing = pd.read_csv(\"https://cf-courses-data.s3.us.c-object-storage.appdomain.cloud/IBM-ML0232EN-SkillsNetwork/asset/Ames_Housing_Data1.tsv\", sep='\\t')\n",
        "housing.head(10)"
      ],
      "metadata": {
        "id": "iMV0xii6x02Z"
      },
      "execution_count": null,
      "outputs": []
    },
    {
      "cell_type": "code",
      "source": [
        "housing.info()"
      ],
      "metadata": {
        "id": "7MQ7fIQQx1BF"
      },
      "execution_count": null,
      "outputs": []
    },
    {
      "cell_type": "code",
      "source": [
        "housing['SalePrice'].describe()"
      ],
      "metadata": {
        "id": "iEcfXlZdyy00"
      },
      "execution_count": null,
      "outputs": []
    },
    {
      "cell_type": "code",
      "source": [
        "housing['SalePrice'].value_counts()"
      ],
      "metadata": {
        "id": "ymQwezQ-z0Td"
      },
      "execution_count": null,
      "outputs": []
    },
    {
      "cell_type": "code",
      "source": [
        "hous_num = housing.select_dtypes(include = ['float64', 'int64'])\n",
        "hous_num_corr = hous_num.corr()['SalePrice'][:-1] # -1 means that the latest row is SalePrice\n",
        "top_features = hous_num_corr[abs(hous_num_corr) > 0.5].sort_values(ascending=False) #displays pearsons correlation coefficient greater than 0.5\n",
        "print(\"There is {} strongly correlated values with SalePrice:\\n{}\".format(len(top_features), top_features))"
      ],
      "metadata": {
        "id": "CEX2q3Ek0i9r"
      },
      "execution_count": null,
      "outputs": []
    },
    {
      "cell_type": "code",
      "source": [
        "for i in range(0, len(hous_num.columns), 5):\n",
        "    sns.pairplot(data=hous_num,\n",
        "                x_vars=hous_num.columns[i:i+5],\n",
        "                y_vars=['SalePrice'])"
      ],
      "metadata": {
        "id": "UHD_yDGI00kH"
      },
      "execution_count": null,
      "outputs": []
    },
    {
      "cell_type": "code",
      "source": [
        "sp_intronsformed = sns.displot(housing['SalePrice'])"
      ],
      "metadata": {
        "id": "n6TNCAIW2jBc"
      },
      "execution_count": null,
      "outputs": []
    },
    {
      "cell_type": "code",
      "source": [
        "print(\"skewness: %f\" % housing['SalePrice'].skew())"
      ],
      "metadata": {
        "id": "X25g1aMP3Jij"
      },
      "execution_count": null,
      "outputs": []
    },
    {
      "cell_type": "code",
      "source": [
        "log_transformed = np.log(housing['SalePrice'])\n",
        "sp_transformed = sns.displot(log_transformed)"
      ],
      "metadata": {
        "id": "UJ_thpY-3nPS"
      },
      "execution_count": null,
      "outputs": []
    },
    {
      "cell_type": "code",
      "source": [
        "print(\"skewens %f\" % (log_transformed).skew())"
      ],
      "metadata": {
        "id": "d8nwoWYp4m67"
      },
      "execution_count": null,
      "outputs": []
    },
    {
      "cell_type": "code",
      "source": [
        "laplot = sns.displot(housing['Lot Area'])"
      ],
      "metadata": {
        "id": "xZLapOs55Xns"
      },
      "execution_count": null,
      "outputs": []
    },
    {
      "cell_type": "code",
      "source": [
        "print(\"skewness %f\" % (housing['Lot Area']).skew())"
      ],
      "metadata": {
        "id": "EuHu-qsx5rGS"
      },
      "execution_count": null,
      "outputs": []
    },
    {
      "cell_type": "code",
      "source": [
        "from scipy.stats.stats import skew\n",
        "lalog = np.log(housing['Lot Area'])\n",
        "print(\"skewness %f\" % lalog.skew())"
      ],
      "metadata": {
        "id": "ltK5526Y6DKx"
      },
      "execution_count": null,
      "outputs": []
    },
    {
      "cell_type": "code",
      "source": [
        "lalog = sns.displot(housing['Lot Area'])"
      ],
      "metadata": {
        "id": "4QUxzQjy7Dc2"
      },
      "execution_count": null,
      "outputs": []
    },
    {
      "cell_type": "markdown",
      "source": [
        "# Handling the Missing Values"
      ],
      "metadata": {
        "id": "P7sFvizv8DxW"
      }
    },
    {
      "cell_type": "code",
      "source": [
        "total = housing.isnull().sum().sort_values(ascending=False)\n",
        "total_select = total.head(20)\n",
        "total_select.plot(kind=\"bar\", figsize = (8,6), fontsize = 10)\n",
        "\n",
        "plt.xlabel(\"Columns\", fontsize = 20)\n",
        "plt.ylabel(\"Count\", fontsize = 20)\n",
        "plt.title(\"Total Missing Values\", fontsize = 20)"
      ],
      "metadata": {
        "id": "tby6GAlwvOd7"
      },
      "execution_count": null,
      "outputs": []
    },
    {
      "cell_type": "code",
      "source": [
        "housing.dropna(subset=[\"Lot Frontage\"])"
      ],
      "metadata": {
        "id": "0hNJPnj9vwWM"
      },
      "execution_count": null,
      "outputs": []
    },
    {
      "cell_type": "code",
      "source": [
        "housing.drop(\"Lot Frontage\", axis=1)"
      ],
      "metadata": {
        "id": "Tw0MNohPy1FL"
      },
      "execution_count": null,
      "outputs": []
    },
    {
      "cell_type": "code",
      "source": [
        "median = housing[\"Lot Frontage\"].median()\n",
        "median"
      ],
      "metadata": {
        "id": "YAPYquPszDii"
      },
      "execution_count": null,
      "outputs": []
    },
    {
      "cell_type": "code",
      "source": [
        "housing[\"Lot Frontage\"].fillna(median, inplace = True)"
      ],
      "metadata": {
        "id": "kycuVYLQzGZu"
      },
      "execution_count": null,
      "outputs": []
    },
    {
      "cell_type": "code",
      "source": [
        "housing.tail()"
      ],
      "metadata": {
        "id": "ea7adpnczLOE"
      },
      "execution_count": null,
      "outputs": []
    },
    {
      "cell_type": "code",
      "source": [
        "mean = housing[\"Mas Vnr Area\"].mean()\n",
        "housing[\"Mas Vnr Area\"].fillna(mean, inplace = True)"
      ],
      "metadata": {
        "id": "B2IUc8S3zYXY"
      },
      "execution_count": null,
      "outputs": []
    },
    {
      "cell_type": "code",
      "source": [
        "housing.tail()"
      ],
      "metadata": {
        "id": "aQIJYf9Bzhes"
      },
      "execution_count": null,
      "outputs": []
    },
    {
      "cell_type": "code",
      "source": [
        "norm_data = MinMaxScaler().fit_transform(hous_num)\n",
        "norm_data"
      ],
      "metadata": {
        "id": "r9DfWGntz_U5"
      },
      "execution_count": null,
      "outputs": []
    },
    {
      "cell_type": "code",
      "source": [
        "scaled_data = StandardScaler().fit_transform(hous_num)\n",
        "scaled_data"
      ],
      "metadata": {
        "id": "EiyZ0owu0PuZ"
      },
      "execution_count": null,
      "outputs": []
    },
    {
      "cell_type": "code",
      "source": [
        "scaled_sprice = StandardScaler().fit_transform(housing['SalePrice'][:,np.newaxis]) \n",
        "scaled_sprice"
      ],
      "metadata": {
        "id": "Eg1ed3Yh0XdW"
      },
      "execution_count": null,
      "outputs": []
    },
    {
      "cell_type": "markdown",
      "source": [
        "\n",
        "## **Handling the Outliers**\n"
      ],
      "metadata": {
        "id": "cTwZA5fb0rsQ"
      }
    },
    {
      "cell_type": "code",
      "source": [
        "sns.boxplot(x=housing['Lot Area'])"
      ],
      "metadata": {
        "id": "6Skzl8450lH4"
      },
      "execution_count": null,
      "outputs": []
    },
    {
      "cell_type": "code",
      "source": [
        "sns.boxplot(x=housing['SalePrice'])"
      ],
      "metadata": {
        "id": "G5rWKeOR1Pwf"
      },
      "execution_count": null,
      "outputs": []
    },
    {
      "cell_type": "code",
      "source": [
        "price_area = housing.plot.scatter(x='Gr Liv Area',\n",
        "                      y='SalePrice')"
      ],
      "metadata": {
        "id": "AXd1y8Pe1TJt"
      },
      "execution_count": null,
      "outputs": []
    },
    {
      "cell_type": "code",
      "source": [
        "housing.sort_values(by = 'Gr Liv Area', ascending = False)[:2]"
      ],
      "metadata": {
        "id": "i1YZQtRN1iLN"
      },
      "execution_count": null,
      "outputs": []
    },
    {
      "cell_type": "code",
      "source": [
        "outliers_dropped = housing.drop(housing.index[[1499,2181]])"
      ],
      "metadata": {
        "id": "ek9cafjc1w4O"
      },
      "execution_count": null,
      "outputs": []
    },
    {
      "cell_type": "code",
      "source": [
        "new_plot = outliers_dropped.plot.scatter(x='Gr Liv Area',\n",
        "                                         y='SalePrice')"
      ],
      "metadata": {
        "id": "ke9dQaw9141m"
      },
      "execution_count": null,
      "outputs": []
    },
    {
      "cell_type": "markdown",
      "source": [
        "## Z-score Analysis\n",
        "Z-score is the signed number of standard deviations by which the value of an observation or data point is above the mean value of what is being observed or measured. In another words, Z-score is the value that quantifies relationship between a data point and a standard deviation and mean values of a group of points\n"
      ],
      "metadata": {
        "id": "2xst1fKN2Xok"
      }
    },
    {
      "cell_type": "code",
      "source": [
        "housing['LQFSF_Stats'] = stats.zscore(housing['Low Qual Fin SF'])\n",
        "housing[['Low Qual Fin SF','LQFSF_Stats']].describe().round(3)"
      ],
      "metadata": {
        "id": "wLjGZNPR2CJz"
      },
      "execution_count": null,
      "outputs": []
    },
    {
      "cell_type": "code",
      "source": [
        ""
      ],
      "metadata": {
        "id": "vbvt6nCnPo59"
      },
      "execution_count": null,
      "outputs": []
    },
    {
      "cell_type": "code",
      "source": [
        ""
      ],
      "metadata": {
        "id": "MgV-gpdo32Ji"
      },
      "execution_count": null,
      "outputs": []
    }
  ]
}